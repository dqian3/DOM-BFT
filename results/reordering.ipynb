{
 "cells": [
  {
   "cell_type": "code",
   "execution_count": null,
   "id": "704c0f90-f683-4f9b-aa5f-8988b3d9d3c3",
   "metadata": {},
   "outputs": [],
   "source": [
    "filename = \"1_100.log\""
   ]
  },
  {
   "cell_type": "code",
   "execution_count": null,
   "id": "485111ac-9272-4993-b8c8-e6989f8af979",
   "metadata": {},
   "outputs": [],
   "source": [
    "from pathlib import Path\n",
    "\n",
    "if not Path(filename).exists():\n",
    "    !grep \"Forwarding request \" ../logs/receiver*.log >reordering.log"
   ]
  },
  {
   "cell_type": "code",
   "execution_count": null,
   "id": "89dff3a6-ed14-4552-b30b-2770cd15e57a",
   "metadata": {},
   "outputs": [],
   "source": [
    "import re\n",
    "def parse_int_tag(line, name):\n",
    "    match = re.search(f\"{name}=([0-9]*)\", line)\n",
    "    if match:\n",
    "        return int(match.group(1))\n",
    "    else:\n",
    "        return 0\n",
    "\n",
    "def parse_line(line):\n",
    "    deadline = parse_int_tag(line, \"deadline\")\n",
    "    now = parse_int_tag(line, \"now\")\n",
    "    id = parse_int_tag(line, \"r_id\")\n",
    "    proxy_id = parse_int_tag(line, \"c_id\")\n",
    "    proxy_seq = parse_int_tag(line, \"c_seq\")\n",
    "\n",
    "    return (id, proxy_id, proxy_seq, now - deadline)    "
   ]
  },
  {
   "cell_type": "code",
   "execution_count": null,
   "id": "60a0c2dc-3203-4930-9048-d1b554e18df2",
   "metadata": {},
   "outputs": [],
   "source": [
    "requests = {}\n",
    "\n",
    "for line in open(filename):\n",
    "    (id, *req) = parse_line(line)\n",
    "\n",
    "    if id not in requests:\n",
    "        requests[id] = []\n",
    "        \n",
    "    requests[id].append(tuple(req))"
   ]
  },
  {
   "cell_type": "code",
   "execution_count": null,
   "id": "0646164b-449c-43c0-97d3-68c693bf036d",
   "metadata": {},
   "outputs": [],
   "source": [
    "# Get edit distance between 2 sequences from receivers\n",
    "def req_eq(r1, r2):\n",
    "    return r1[0] == r2[0] and r1[1] == r2[1]\n",
    "\n",
    "def edit_dist(s1, s2):\n",
    "    dp = [ ([-1] * (len(s1) + 1)) for _ in range(len(s2) + 1)]\n",
    "\n",
    "    dp[0][0] = 0\n",
    "\n",
    "    for i in range(1, len(dp)):\n",
    "        dp[i][0] = i\n",
    "        \n",
    "    for j in range(1, len(dp[0])):\n",
    "        dp[0][j] = j\n",
    "        \n",
    "    for i in range(1, len(dp)):\n",
    "        for j in range(1, len(dp[i])):\n",
    "            # Change req at position i/j\n",
    "            if req_eq(s1[i-1], s2[i-1]):\n",
    "                dp[i][j] = dp[i - 1][j - 1]\n",
    "            else:\n",
    "                dp[i][j] = 1 + dp[i - 1][j - 1]\n",
    "\n",
    "            # TODO swaps?\n",
    "            dp[i][j] = min(dp[i][j], 1 + dp[i - 1][j], 1 + dp[i][j - 1])\n",
    "    \n",
    "    return dp[-1][-1]\n",
    "\n",
    "# Simpler metric, which perecentage of requests are the same?\n",
    "def matching_reqs(*seqs):\n",
    "    n = len(seqs[0])\n",
    "    ret = []\n",
    "    \n",
    "    for entries in zip(*seqs):\n",
    "        match = True\n",
    "        for (x, y) in zip(entries, entries[1:]):\n",
    "            if not req_eq(x, y): match = False\n",
    "\n",
    "        ret.append(match)\n",
    "        \n",
    "    return ret"
   ]
  },
  {
   "cell_type": "code",
   "execution_count": null,
   "id": "2d4836e9-a9c2-48e2-b1a2-3e8c8f26749c",
   "metadata": {},
   "outputs": [],
   "source": [
    "import itertools\n",
    "\n",
    "reqs = matching_reqs(*[v for v in requests.values()])\n",
    "\n",
    "print(f\"Total number of requests: {len(sections)}\")\n",
    "print(f\"Total proportion of requests the same: {sum(sections) / len(sections):.2f}\")\n",
    "\n",
    "# Get runs of smae requests len 10 or above\n",
    "print([(k, sum(1 for _ in g)) for k, g in itertools.groupby(reqs)])"
   ]
  },
  {
   "cell_type": "code",
   "execution_count": null,
   "id": "1b58797c-8b0f-43fa-8a44-a094c6eacfe4",
   "metadata": {},
   "outputs": [],
   "source": [
    "print(edit_dist(requests[0], requests[1]))\n",
    "print(edit_dist(requests[0], requests[2]))\n",
    "print(edit_dist(requests[0], requests[3]))"
   ]
  },
  {
   "cell_type": "code",
   "execution_count": null,
   "id": "4c82a847-02ce-4d13-b25c-ec284e67fa1a",
   "metadata": {},
   "outputs": [],
   "source": []
  }
 ],
 "metadata": {
  "kernelspec": {
   "display_name": "Python 3 (ipykernel)",
   "language": "python",
   "name": "python3"
  },
  "language_info": {
   "codemirror_mode": {
    "name": "ipython",
    "version": 3
   },
   "file_extension": ".py",
   "mimetype": "text/x-python",
   "name": "python",
   "nbconvert_exporter": "python",
   "pygments_lexer": "ipython3",
   "version": "3.10.12"
  }
 },
 "nbformat": 4,
 "nbformat_minor": 5
}

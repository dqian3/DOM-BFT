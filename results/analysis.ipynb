{
 "cells": [
  {
   "cell_type": "markdown",
   "id": "a6cd730f-fe32-49df-8f06-c92d71f26238",
   "metadata": {},
   "source": [
    "## Protocol Analysis\n",
    "\n",
    "It would probably be good to make these actual python libraries. Oh well."
   ]
  },
  {
   "cell_type": "code",
   "execution_count": null,
   "id": "77dbe798-a911-4532-bf83-8993548159b7",
   "metadata": {},
   "outputs": [],
   "source": [
    "# First extract logs with \"PERF\" from the client/receiver logs\n",
    "\n",
    "from pathlib import Path\n",
    "\n",
    "filename=\"test.log\"\n",
    "\n",
    "if not Path(filename).exists():\n",
    "    !cat ../logs/replica*.log ../logs/client*.log | grep PERF >{filename}"
   ]
  },
  {
   "cell_type": "code",
   "execution_count": null,
   "id": "c8f1ffec-95cf-4c13-bd78-f212d168e7c4",
   "metadata": {},
   "outputs": [],
   "source": [
    "# Basic log parsing\n",
    "\n",
    "import re\n",
    "import datetime \n",
    "\n",
    "def parse_time(line):\n",
    "    match = re.search(f\"([0-9]*:[0-9]*:[0-9]*.[0-9]*)\", line)\n",
    "    time_str = match.group(1);\n",
    "    return datetime.datetime.strptime(time_str, \"%H:%M:%S.%f\")\n",
    "\n",
    "def parse_tags(line):\n",
    "    tags = {}\n",
    "    line = line.split(\"PERF \")[1]\n",
    "    for token in line.split():\n",
    "        [tag, value] = token.split(\"=\")\n",
    "        tags[tag] = value\n",
    "        try:\n",
    "            tags[tag] = int(value)\n",
    "        except ValueError as verr:\n",
    "            pass\n",
    "            \n",
    "    return tags\n",
    "        \n",
    "def parse_line(line):\n",
    "    time = parse_time(line)\n",
    "    tags = parse_tags(line)\n",
    "\n",
    "    tags[\"time\"] = time\n",
    "    return tags "
   ]
  },
  {
   "cell_type": "code",
   "execution_count": null,
   "id": "4b8b1d34-d4d7-465b-b369-f40124bb9592",
   "metadata": {
    "scrolled": true
   },
   "outputs": [],
   "source": [
    "events = []\n",
    "\n",
    "with open(filename) as f:\n",
    "    for line in f:\n",
    "        events.append(parse_line(line))"
   ]
  },
  {
   "cell_type": "code",
   "execution_count": null,
   "id": "679cd5ae-20e2-48d2-92db-baca91d6252c",
   "metadata": {},
   "outputs": [],
   "source": [
    "events = sorted(events, key=lambda x: x['time'])\n",
    "commits = list(filter(lambda x: x[\"event\"] == \"commit\", events))"
   ]
  },
  {
   "cell_type": "code",
   "execution_count": null,
   "id": "3e92f00f-d1af-441a-9155-41fce7569066",
   "metadata": {},
   "outputs": [],
   "source": [
    "# Look at each client commit, make sure there are no two clients ops on the same seq\n",
    "from collections import Counter\n",
    "\n",
    "counts = Counter(c[\"seq\"] for c in commits)\n",
    "for seq in counts:\n",
    "    if counts[seq] > 1:\n",
    "        print(f\"Sequence {seq} has different commits!\")"
   ]
  },
  {
   "cell_type": "code",
   "execution_count": null,
   "id": "a633cf06-9ef9-4c3e-8e66-6bca84842ca4",
   "metadata": {},
   "outputs": [],
   "source": [
    "# Ensure all client operations are committed\n",
    "n_clients = 2\n",
    "\n",
    "for c_id in range(n_clients):\n",
    "    c_commits = filter(lambda x: x[\"client_id\"] == c_id, commits)\n",
    "    seq = sorted(c[\"client_seq\"] for c in c_commits)\n",
    "\n",
    "    for x, y in zip(seq, seq[1:]):\n",
    "        if (y-x) > 1:\n",
    "            print(f\"Client missed commits between {x}-{y}\")\n"
   ]
  },
  {
   "cell_type": "code",
   "execution_count": null,
   "id": "29a9b1c2-e56e-429f-9b98-3aea7006f0f2",
   "metadata": {},
   "outputs": [],
   "source": [
    "# Get general stats\n",
    "runtime = (commits[-1][\"time\"] - commits[0][\"time\"]).total_seconds()\n",
    "print(f\"Runtime: {runtime:.3f} s\")\n",
    "print(f\"Total Throughput: {len(commits) / runtime:.2f} req/s\")\n",
    "\n",
    "print(f\"Num commits: {len(commits)}\")\n",
    "print(f\"Average latency: {sum(c['latency'] for c in commits) / len(commits):.0f} us\")\n",
    "\n",
    "fast = list(filter(lambda x: x[\"path\"] == \"fast\", commits))\n",
    "normal = list(filter(lambda x: x[\"path\"] == \"normal\", commits))\n",
    "slow = list(filter(lambda x: x[\"path\"] == \"slow\", commits))\n",
    "\n",
    "print(\"Fast path:\")\n",
    "print(f\"\\tNum commits: {len(fast)}\")\n",
    "print(f\"\\tAverage latency: {sum(c['latency'] for c in fast) / len(fast):.0f} us\")\n",
    "\n",
    "\n",
    "print(\"Normal path:\")\n",
    "print(f\"\\tNum commits: {len(normal)}\")\n",
    "print(f\"\\tAverage latency: {sum(c['latency'] for c in normal) / len(normal):.0f} us\")\n",
    "\n",
    "print(\"Slow path:\")\n",
    "print(f\"\\tNum commits: {len(slow)}\")\n",
    "print(f\"\\tAverage latency: {sum(c['latency'] for c in slow) / len(slow):.0f} us\")\n",
    "\n"
   ]
  },
  {
   "cell_type": "code",
   "execution_count": null,
   "id": "8a2d6a91-1379-4561-9112-7bbeba73abe2",
   "metadata": {},
   "outputs": [],
   "source": [
    "# Get the throughput over periods of 100ms every 10ms  \n",
    "\n",
    "import numpy as np\n",
    "\n",
    "w_size = 1 #s\n",
    "resolution = 0.05 #s\n",
    "\n",
    "start_time = commits[0][\"time\"]\n",
    "end = (commits[-1][\"time\"] - start_time).total_seconds()\n",
    "events = [(c[\"time\"] - start_time).total_seconds() for c in commits]\n",
    "\n",
    "w_start = 0\n",
    "i = 0\n",
    "j = 0\n",
    "\n",
    "event_counts = []\n",
    "\n",
    "while w_start + w_size < end:\n",
    "    while (events[i] < w_start):\n",
    "        i += 1\n",
    "    while (events[j] <= w_start + w_size):\n",
    "        j += 1\n",
    "\n",
    "    event_counts.append(j - i + 1)\n",
    "    w_start += resolution\n",
    "\n",
    "\n",
    "times = np.arange(0, end - w_size, resolution)\n",
    "throughput = np.array(event_counts) / w_size\n"
   ]
  },
  {
   "cell_type": "code",
   "execution_count": null,
   "id": "02159ae0-1482-4558-aaa1-c8c157b0b527",
   "metadata": {},
   "outputs": [],
   "source": [
    "# Plot throughput over time\n",
    "import matplotlib.pyplot as plt\n",
    "\n",
    "plt.plot(times, throughput, label='Throughput', alpha=0.5, linestyle='--')\n",
    "\n",
    "plt.title('Throughput Over Time')\n",
    "plt.xlabel('Time')\n",
    "plt.ylabel('Throughput (Events per Window)')\n",
    "plt.legend()\n",
    "plt.show()"
   ]
  },
  {
   "cell_type": "code",
   "execution_count": null,
   "id": "1d3f18c1-5cd7-40fb-b9a7-558c48ddc6d9",
   "metadata": {},
   "outputs": [],
   "source": []
  }
 ],
 "metadata": {
  "kernelspec": {
   "display_name": "Python 3 (ipykernel)",
   "language": "python",
   "name": "python3"
  },
  "language_info": {
   "codemirror_mode": {
    "name": "ipython",
    "version": 3
   },
   "file_extension": ".py",
   "mimetype": "text/x-python",
   "name": "python",
   "nbconvert_exporter": "python",
   "pygments_lexer": "ipython3",
   "version": "3.10.12"
  }
 },
 "nbformat": 4,
 "nbformat_minor": 5
}

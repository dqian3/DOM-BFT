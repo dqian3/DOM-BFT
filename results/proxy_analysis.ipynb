{
 "cells": [
  {
   "cell_type": "code",
   "execution_count": null,
   "id": "704c0f90-f683-4f9b-aa5f-8988b3d9d3c3",
   "metadata": {},
   "outputs": [],
   "source": [
    "filename = \"proxy_500p_0_udp_intra2.log\""
   ]
  },
  {
   "cell_type": "code",
   "execution_count": null,
   "id": "485111ac-9272-4993-b8c8-e6989f8af979",
   "metadata": {},
   "outputs": [],
   "source": [
    "from pathlib import Path\n",
    "\n",
    "if not Path(filename).exists():\n",
    "    !grep \"proxy=\" ../logs/proxy*.log >{filename}"
   ]
  },
  {
   "cell_type": "code",
   "execution_count": null,
   "id": "89dff3a6-ed14-4552-b30b-2770cd15e57a",
   "metadata": {},
   "outputs": [],
   "source": [
    "import re\n",
    "def parse_int_tag(line, name):\n",
    "    match = re.search(f\"{name}=([\\-0-9]*)\", line)\n",
    "    if match:\n",
    "        return int(match.group(1))\n",
    "    else:\n",
    "        return 0\n",
    "\n",
    "def parse_line(line):\n",
    "    id = parse_int_tag(line, \"proxy\")\n",
    "    replica = parse_int_tag(line, \"replica\")\n",
    "    owd = parse_int_tag(line, \"owd\")\n",
    "    rtt = parse_int_tag(line, \"rtt\")\n",
    "    time = parse_int_tag(line, \"now\")\n",
    "\n",
    "    return (id, replica, owd, rtt, time)    "
   ]
  },
  {
   "cell_type": "code",
   "execution_count": null,
   "id": "60a0c2dc-3203-4930-9048-d1b554e18df2",
   "metadata": {},
   "outputs": [],
   "source": [
    "ms = {}\n",
    "\n",
    "for line in open(filename):\n",
    "    (id, *measurement) = parse_line(line)\n",
    "\n",
    "    if id not in ms:\n",
    "        ms[id] = []\n",
    "        \n",
    "    ms[id].append(tuple(measurement))\n",
    "\n",
    "print(*(len(v) for v in ms.values()))"
   ]
  },
  {
   "cell_type": "code",
   "execution_count": null,
   "id": "e96ad27f-a318-4501-962f-a0984701174b",
   "metadata": {},
   "outputs": [],
   "source": [
    "%matplotlib inline\n",
    "\n",
    "pid = 1\n",
    "import matplotlib.pyplot as plt\n",
    "\n",
    "for rid in range(1):\n",
    "    rtts = [rtt for (r, owd, rtt, time) in ms[pid] if r == rid]\n",
    "    # times = [time for (r, owd, rtt, time) in ms[pid] if r == rid]\n",
    "    plt.plot(rtts)\n",
    "\n",
    "plt.ylabel(\"RTT (us)\")\n",
    "plt.xlabel(\"Request Number\")\n",
    "plt.show()"
   ]
  },
  {
   "cell_type": "code",
   "execution_count": null,
   "id": "ceaaec6f-fe0c-4bd1-95ab-59d1d78298d3",
   "metadata": {},
   "outputs": [],
   "source": []
  }
 ],
 "metadata": {
  "kernelspec": {
   "display_name": "Python 3 (ipykernel)",
   "language": "python",
   "name": "python3"
  },
  "language_info": {
   "codemirror_mode": {
    "name": "ipython",
    "version": 3
   },
   "file_extension": ".py",
   "mimetype": "text/x-python",
   "name": "python",
   "nbconvert_exporter": "python",
   "pygments_lexer": "ipython3",
   "version": "3.10.12"
  }
 },
 "nbformat": 4,
 "nbformat_minor": 5
}
